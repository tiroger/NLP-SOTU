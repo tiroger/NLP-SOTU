{
 "cells": [
  {
   "cell_type": "code",
   "execution_count": null,
   "metadata": {},
   "outputs": [],
   "source": [
    "import pandas as pd\n",
    "import numpy as np\n",
    "\n",
    "import matplotlib.pyplot as plt\n",
    "import plotly\n",
    "import plotly.express as px\n",
    "# Import the necessaries libraries\n",
    "import plotly.offline as pyo\n",
    "import plotly.graph_objs as go\n",
    "# Set notebook mode to work in offline\n",
    "pyo.init_notebook_mode()\n",
    "\n",
    "import dash\n",
    "import dash_core_components as dcc\n",
    "import dash_html_components as html\n",
    "\n",
    "# NLP Libraries - Trying both\n",
    "from textblob import TextBlob\n",
    "import spacy"
   ]
  },
  {
   "cell_type": "code",
   "execution_count": null,
   "metadata": {},
   "outputs": [],
   "source": [
    "# Testing Spacy\n",
    "nlp = spacy.load(\"en_core_web_sm\")\n",
    "doc = nlp('This is a sentence.')\n",
    "for t in doc:\n",
    "    print(t)"
   ]
  },
  {
   "cell_type": "markdown",
   "metadata": {},
   "source": [
    "## Sentiment of Speech"
   ]
  },
  {
   "cell_type": "code",
   "execution_count": null,
   "metadata": {},
   "outputs": [],
   "source": [
    "# Loading corpus\n",
    "corpus = pd.read_pickle('./pickled_files/clean_sotu_speeches_corpus.pkl')\n",
    "corpus.head()"
   ]
  },
  {
   "cell_type": "markdown",
   "metadata": {},
   "source": [
    "### 1 | TextBlob"
   ]
  },
  {
   "cell_type": "code",
   "execution_count": null,
   "metadata": {
    "scrolled": true
   },
   "outputs": [],
   "source": [
    "# Functions for polarity and subjectivity of each speech\n",
    "pol = lambda x: TextBlob(x).sentiment.polarity\n",
    "sub = lambda x: TextBlob(x).sentiment.subjectivity\n",
    "\n",
    "corpus['polarity'] = corpus.clean_text.apply(pol)\n",
    "corpus['subjectivity'] = corpus.clean_text.apply(sub)"
   ]
  },
  {
   "cell_type": "code",
   "execution_count": null,
   "metadata": {},
   "outputs": [],
   "source": [
    "corpus.head()"
   ]
  },
  {
   "cell_type": "code",
   "execution_count": null,
   "metadata": {},
   "outputs": [],
   "source": [
    "# Plotting the results\n",
    "\n",
    "\n",
    "plt.rcParams['figure.figsize'] = [10, 8]\n",
    "\n",
    "for index, president in enumerate(corpus.president_name):\n",
    "    x = corpus.loc[corpus.president_name == president].polarity\n",
    "    y = corpus.loc[corpus.president_name == president].subjectivity\n",
    "    plt.scatter(x, y)\n",
    "    #plt.text(x+.001, y+.001, corpus['president_name'], fontsize=10)\n",
    "    #plt.xlim(-.01, .12) \n",
    "    \n",
    "plt.title('Sentiment Analysis', fontsize=20)\n",
    "plt.xlabel('<-- Negative -------- Positive -->', fontsize=15)\n",
    "plt.ylabel('<-- Facts -------- Opinions -->', fontsize=15)\n",
    "\n",
    "plt.show()"
   ]
  },
  {
   "cell_type": "code",
   "execution_count": null,
   "metadata": {},
   "outputs": [],
   "source": [
    "import plotly\n",
    "import plotly.express as px\n",
    "\n",
    "fig = px.scatter(corpus, x=\"subjectivity\", y=\"polarity\", color=\"year\",\n",
    "                 hover_data=['president_name'])\n",
    "fig.show()"
   ]
  },
  {
   "cell_type": "code",
   "execution_count": null,
   "metadata": {},
   "outputs": [],
   "source": [
    "plotly.__version__"
   ]
  },
  {
   "cell_type": "code",
   "execution_count": null,
   "metadata": {},
   "outputs": [],
   "source": [
    "# Plotting Subjectivity vs Polarity\n",
    "\n",
    "fig1 = px.scatter(corpus, x=\"polarity\", y=\"subjectivity\",\n",
    "                 hover_data=['president_name'], trendline=\"ols\")\n",
    "\n",
    "fig.update_layout(\n",
    "    xaxis = dict(\n",
    "        title_text = '<-- Negative -------- Positive -->',\n",
    "        title_standoff = 25),\n",
    "    yaxis = dict(\n",
    "        title_text = '<-- Facts -------- Opinions -->',\n",
    "        title_standoff = 25))\n",
    "\n",
    "fig1.show()"
   ]
  },
  {
   "cell_type": "code",
   "execution_count": null,
   "metadata": {},
   "outputs": [],
   "source": [
    "# Plotting Subjectivity vs Polarity - Looking at individual presidents\n",
    "\n",
    "fig2 = px.scatter(corpus, x=\"polarity\", y=\"subjectivity\",\n",
    "                 hover_data=['president_name'], color=\"president_name\")\n",
    "\n",
    "fig.update_layout(\n",
    "    xaxis = dict(\n",
    "        title_text = '<-- Negative -------- Positive -->',\n",
    "        title_standoff = 25),\n",
    "    yaxis = dict(\n",
    "        title_text = '<-- Facts -------- Opinions -->',\n",
    "        title_standoff = 25))\n",
    "\n",
    "fig2.show()"
   ]
  },
  {
   "cell_type": "code",
   "execution_count": null,
   "metadata": {},
   "outputs": [],
   "source": [
    "# Testing Dash dashboard\n",
    "app = dash.Dash()\n",
    "app.layout = html.Div([\n",
    "    dcc.Graph(figure=fig2),\n",
    "    dcc.Graph(figure=fig1)\n",
    "])\n",
    "app.run_server(debug=True, use_reloader=False)  # Turn off reloader if inside Jupyter"
   ]
  },
  {
   "cell_type": "code",
   "execution_count": null,
   "metadata": {},
   "outputs": [],
   "source": []
  }
 ],
 "metadata": {
  "kernelspec": {
   "display_name": "Python 3.7.4 64-bit ('pythonData': conda)",
   "language": "python",
   "name": "python37464bitpythondataconda0c2eb00f1e9b4f9aa53bbee7780ff764"
  },
  "language_info": {
   "codemirror_mode": {
    "name": "ipython",
    "version": 3
   },
   "file_extension": ".py",
   "mimetype": "text/x-python",
   "name": "python",
   "nbconvert_exporter": "python",
   "pygments_lexer": "ipython3",
   "version": "3.7.4"
  }
 },
 "nbformat": 4,
 "nbformat_minor": 4
}
