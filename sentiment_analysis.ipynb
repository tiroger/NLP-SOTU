{
 "cells": [
  {
   "cell_type": "code",
   "execution_count": 20,
   "metadata": {},
   "outputs": [],
   "source": [
    "import pandas as pd\n",
    "import numpy as np\n",
    "\n",
    "import matplotlib.pyplot as plt\n",
    "\n",
    "# NLP Libraries - Trying both\n",
    "from textblob import TextBlob\n",
    "import spacy"
   ]
  },
  {
   "cell_type": "code",
   "execution_count": 8,
   "metadata": {},
   "outputs": [
    {
     "name": "stdout",
     "output_type": "stream",
     "text": [
      "This\n",
      "is\n",
      "a\n",
      "sentence\n",
      ".\n"
     ]
    }
   ],
   "source": [
    "# Testing Spacy\n",
    "nlp = spacy.load(\"en_core_web_sm\")\n",
    "doc = nlp('This is a sentence.')\n",
    "for t in doc:\n",
    "    print(t)"
   ]
  },
  {
   "cell_type": "markdown",
   "metadata": {},
   "source": [
    "## Sentiment of Speech"
   ]
  },
  {
   "cell_type": "code",
   "execution_count": 16,
   "metadata": {},
   "outputs": [
    {
     "data": {
      "text/html": [
       "<div>\n",
       "<style scoped>\n",
       "    .dataframe tbody tr th:only-of-type {\n",
       "        vertical-align: middle;\n",
       "    }\n",
       "\n",
       "    .dataframe tbody tr th {\n",
       "        vertical-align: top;\n",
       "    }\n",
       "\n",
       "    .dataframe thead th {\n",
       "        text-align: right;\n",
       "    }\n",
       "</style>\n",
       "<table border=\"1\" class=\"dataframe\">\n",
       "  <thead>\n",
       "    <tr style=\"text-align: right;\">\n",
       "      <th></th>\n",
       "      <th>sotu_date</th>\n",
       "      <th>president_name</th>\n",
       "      <th>clean_text</th>\n",
       "      <th>president_party</th>\n",
       "      <th>year</th>\n",
       "    </tr>\n",
       "  </thead>\n",
       "  <tbody>\n",
       "    <tr>\n",
       "      <th>0</th>\n",
       "      <td>1793-12-03</td>\n",
       "      <td>George Washington</td>\n",
       "      <td>fellowcitizens of the senate and house of repr...</td>\n",
       "      <td>federalist</td>\n",
       "      <td>1793</td>\n",
       "    </tr>\n",
       "    <tr>\n",
       "      <th>1</th>\n",
       "      <td>1794-11-19</td>\n",
       "      <td>George Washington</td>\n",
       "      <td>fellowcitizens of the senate and house of repr...</td>\n",
       "      <td>federalist</td>\n",
       "      <td>1794</td>\n",
       "    </tr>\n",
       "    <tr>\n",
       "      <th>2</th>\n",
       "      <td>1795-12-08</td>\n",
       "      <td>George Washington</td>\n",
       "      <td>fellowcitizens of the senate and house of repr...</td>\n",
       "      <td>federalist</td>\n",
       "      <td>1795</td>\n",
       "    </tr>\n",
       "    <tr>\n",
       "      <th>3</th>\n",
       "      <td>1796-12-07</td>\n",
       "      <td>George Washington</td>\n",
       "      <td>fellowcitizens of the senate and house of repr...</td>\n",
       "      <td>federalist</td>\n",
       "      <td>1796</td>\n",
       "    </tr>\n",
       "    <tr>\n",
       "      <th>4</th>\n",
       "      <td>1797-11-22</td>\n",
       "      <td>John Adams</td>\n",
       "      <td>gentlemen of the senate and gentlemen of the h...</td>\n",
       "      <td>federalist</td>\n",
       "      <td>1797</td>\n",
       "    </tr>\n",
       "  </tbody>\n",
       "</table>\n",
       "</div>"
      ],
      "text/plain": [
       "   sotu_date     president_name  \\\n",
       "0 1793-12-03  George Washington   \n",
       "1 1794-11-19  George Washington   \n",
       "2 1795-12-08  George Washington   \n",
       "3 1796-12-07  George Washington   \n",
       "4 1797-11-22         John Adams   \n",
       "\n",
       "                                          clean_text president_party  year  \n",
       "0  fellowcitizens of the senate and house of repr...      federalist  1793  \n",
       "1  fellowcitizens of the senate and house of repr...      federalist  1794  \n",
       "2  fellowcitizens of the senate and house of repr...      federalist  1795  \n",
       "3  fellowcitizens of the senate and house of repr...      federalist  1796  \n",
       "4  gentlemen of the senate and gentlemen of the h...      federalist  1797  "
      ]
     },
     "execution_count": 16,
     "metadata": {},
     "output_type": "execute_result"
    }
   ],
   "source": [
    "# Loading corpus\n",
    "corpus = pd.read_pickle('./pickled_files/clean_sotu_speeches_corpus.pkl')\n",
    "corpus.head()"
   ]
  },
  {
   "cell_type": "markdown",
   "metadata": {},
   "source": [
    "### 1 | TextBlob"
   ]
  },
  {
   "cell_type": "code",
   "execution_count": 18,
   "metadata": {
    "scrolled": true
   },
   "outputs": [],
   "source": [
    "# Functions for polarity and subjectivity of each speech\n",
    "pol = lambda x: TextBlob(x).sentiment.polarity\n",
    "sub = lambda x: TextBlob(x).sentiment.subjectivity\n",
    "\n",
    "corpus['polarity'] = corpus.clean_text.apply(pol)\n",
    "corpus['subjectivity'] = corpus.clean_text.apply(sub)"
   ]
  },
  {
   "cell_type": "code",
   "execution_count": 19,
   "metadata": {},
   "outputs": [
    {
     "data": {
      "text/html": [
       "<div>\n",
       "<style scoped>\n",
       "    .dataframe tbody tr th:only-of-type {\n",
       "        vertical-align: middle;\n",
       "    }\n",
       "\n",
       "    .dataframe tbody tr th {\n",
       "        vertical-align: top;\n",
       "    }\n",
       "\n",
       "    .dataframe thead th {\n",
       "        text-align: right;\n",
       "    }\n",
       "</style>\n",
       "<table border=\"1\" class=\"dataframe\">\n",
       "  <thead>\n",
       "    <tr style=\"text-align: right;\">\n",
       "      <th></th>\n",
       "      <th>sotu_date</th>\n",
       "      <th>president_name</th>\n",
       "      <th>clean_text</th>\n",
       "      <th>president_party</th>\n",
       "      <th>year</th>\n",
       "      <th>polarity</th>\n",
       "      <th>subjectivity</th>\n",
       "    </tr>\n",
       "  </thead>\n",
       "  <tbody>\n",
       "    <tr>\n",
       "      <th>0</th>\n",
       "      <td>1793-12-03</td>\n",
       "      <td>George Washington</td>\n",
       "      <td>fellowcitizens of the senate and house of repr...</td>\n",
       "      <td>federalist</td>\n",
       "      <td>1793</td>\n",
       "      <td>0.081936</td>\n",
       "      <td>0.424521</td>\n",
       "    </tr>\n",
       "    <tr>\n",
       "      <th>1</th>\n",
       "      <td>1794-11-19</td>\n",
       "      <td>George Washington</td>\n",
       "      <td>fellowcitizens of the senate and house of repr...</td>\n",
       "      <td>federalist</td>\n",
       "      <td>1794</td>\n",
       "      <td>0.136766</td>\n",
       "      <td>0.481982</td>\n",
       "    </tr>\n",
       "    <tr>\n",
       "      <th>2</th>\n",
       "      <td>1795-12-08</td>\n",
       "      <td>George Washington</td>\n",
       "      <td>fellowcitizens of the senate and house of repr...</td>\n",
       "      <td>federalist</td>\n",
       "      <td>1795</td>\n",
       "      <td>0.148215</td>\n",
       "      <td>0.463172</td>\n",
       "    </tr>\n",
       "    <tr>\n",
       "      <th>3</th>\n",
       "      <td>1796-12-07</td>\n",
       "      <td>George Washington</td>\n",
       "      <td>fellowcitizens of the senate and house of repr...</td>\n",
       "      <td>federalist</td>\n",
       "      <td>1796</td>\n",
       "      <td>0.147344</td>\n",
       "      <td>0.430919</td>\n",
       "    </tr>\n",
       "    <tr>\n",
       "      <th>4</th>\n",
       "      <td>1797-11-22</td>\n",
       "      <td>John Adams</td>\n",
       "      <td>gentlemen of the senate and gentlemen of the h...</td>\n",
       "      <td>federalist</td>\n",
       "      <td>1797</td>\n",
       "      <td>0.080944</td>\n",
       "      <td>0.442811</td>\n",
       "    </tr>\n",
       "  </tbody>\n",
       "</table>\n",
       "</div>"
      ],
      "text/plain": [
       "   sotu_date     president_name  \\\n",
       "0 1793-12-03  George Washington   \n",
       "1 1794-11-19  George Washington   \n",
       "2 1795-12-08  George Washington   \n",
       "3 1796-12-07  George Washington   \n",
       "4 1797-11-22         John Adams   \n",
       "\n",
       "                                          clean_text president_party  year  \\\n",
       "0  fellowcitizens of the senate and house of repr...      federalist  1793   \n",
       "1  fellowcitizens of the senate and house of repr...      federalist  1794   \n",
       "2  fellowcitizens of the senate and house of repr...      federalist  1795   \n",
       "3  fellowcitizens of the senate and house of repr...      federalist  1796   \n",
       "4  gentlemen of the senate and gentlemen of the h...      federalist  1797   \n",
       "\n",
       "   polarity  subjectivity  \n",
       "0  0.081936      0.424521  \n",
       "1  0.136766      0.481982  \n",
       "2  0.148215      0.463172  \n",
       "3  0.147344      0.430919  \n",
       "4  0.080944      0.442811  "
      ]
     },
     "execution_count": 19,
     "metadata": {},
     "output_type": "execute_result"
    }
   ],
   "source": [
    "corpus.head()"
   ]
  },
  {
   "cell_type": "code",
   "execution_count": null,
   "metadata": {},
   "outputs": [],
   "source": [
    "# Plotting the results\n",
    "fic"
   ]
  }
 ],
 "metadata": {
  "kernelspec": {
   "display_name": "Python 3.7.4 64-bit ('pythonData': conda)",
   "language": "python",
   "name": "python37464bitpythondataconda0c2eb00f1e9b4f9aa53bbee7780ff764"
  },
  "language_info": {
   "codemirror_mode": {
    "name": "ipython",
    "version": 3
   },
   "file_extension": ".py",
   "mimetype": "text/x-python",
   "name": "python",
   "nbconvert_exporter": "python",
   "pygments_lexer": "ipython3",
   "version": "3.7.4"
  }
 },
 "nbformat": 4,
 "nbformat_minor": 2
}
