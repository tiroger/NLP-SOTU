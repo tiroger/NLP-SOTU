{
 "cells": [
  {
   "cell_type": "code",
   "execution_count": 1,
   "metadata": {},
   "outputs": [],
   "source": [
    "# Importing dependencies\n",
    "import pandas as pd\n",
    "import numpy as np\n",
    "\n",
    "import re\n",
    "import datetime\n",
    "import string\n",
    "\n",
    "import requests \n",
    "from bs4 import BeautifulSoup\n",
    "from selenium import webdriver\n",
    "from selenium.webdriver.common.by import By\n",
    "from selenium.webdriver.support.ui import WebDriverWait\n",
    "from selenium.webdriver.support import expected_conditions as EC\n",
    "from selenium.common.exceptions import TimeoutException\n",
    "\n",
    "from sklearn.feature_extraction.text import CountVectorizer\n",
    "\n",
    "import pickle"
   ]
  },
  {
   "cell_type": "markdown",
   "metadata": {},
   "source": [
    "## 1 | Scrapping Data from The American Presidency Project\n",
    "###### https://www.presidency.ucsb.edu/documents/presidential-documents-archive-guidebook/annual-messages-congress-the-state-the-union"
   ]
  },
  {
   "cell_type": "code",
   "execution_count": 2,
   "metadata": {},
   "outputs": [
    {
     "name": "stdout",
     "output_type": "stream",
     "text": [
      "Getting transcript for 1793\n",
      "<Response [200]>\n",
      "Getting transcript for 1794\n",
      "<Response [200]>\n",
      "Getting transcript for 1795\n",
      "<Response [200]>\n",
      "Getting transcript for 1796\n",
      "<Response [200]>\n",
      "Getting transcript for 1797\n",
      "<Response [200]>\n",
      "Getting transcript for 1798\n",
      "<Response [200]>\n",
      "Getting transcript for 1799\n",
      "<Response [200]>\n",
      "Getting transcript for 1800\n",
      "<Response [200]>\n",
      "Getting transcript for 1801\n",
      "<Response [200]>\n",
      "Getting transcript for 1802\n",
      "<Response [200]>\n",
      "Getting transcript for 1803\n",
      "<Response [200]>\n",
      "Getting transcript for 1804\n",
      "<Response [200]>\n",
      "Getting transcript for 1805\n",
      "<Response [200]>\n",
      "Getting transcript for 1806\n",
      "<Response [200]>\n",
      "Getting transcript for 1807\n",
      "<Response [200]>\n",
      "Getting transcript for 1808\n",
      "<Response [200]>\n",
      "Getting transcript for 1809\n",
      "<Response [200]>\n",
      "Getting transcript for 1810\n",
      "<Response [200]>\n",
      "Getting transcript for 1811\n",
      "<Response [200]>\n",
      "Getting transcript for 1812\n",
      "<Response [200]>\n",
      "Getting transcript for 1813\n",
      "<Response [200]>\n",
      "Getting transcript for 1814\n",
      "<Response [200]>\n",
      "Getting transcript for 1815\n",
      "<Response [200]>\n",
      "Getting transcript for 1816\n",
      "<Response [200]>\n",
      "Getting transcript for 1817\n",
      "<Response [200]>\n",
      "Getting transcript for 1818\n",
      "<Response [200]>\n",
      "Getting transcript for 1819\n",
      "<Response [200]>\n",
      "Getting transcript for 1820\n",
      "<Response [200]>\n",
      "Getting transcript for 1821\n",
      "<Response [200]>\n",
      "Getting transcript for 1822\n",
      "<Response [200]>\n",
      "Getting transcript for 1823\n",
      "<Response [200]>\n",
      "Getting transcript for 1824\n",
      "<Response [200]>\n",
      "Getting transcript for 1825\n",
      "<Response [200]>\n",
      "Getting transcript for 1826\n",
      "<Response [200]>\n",
      "Getting transcript for 1827\n",
      "<Response [200]>\n",
      "Getting transcript for 1828\n",
      "<Response [200]>\n",
      "Getting transcript for 1829\n",
      "<Response [200]>\n",
      "Getting transcript for 1830\n",
      "<Response [200]>\n",
      "Getting transcript for 1831\n",
      "<Response [200]>\n",
      "Getting transcript for 1832\n",
      "<Response [200]>\n",
      "Getting transcript for 1833\n",
      "<Response [200]>\n",
      "Getting transcript for 1834\n",
      "<Response [200]>\n",
      "Getting transcript for 1835\n",
      "<Response [200]>\n",
      "Getting transcript for 1836\n",
      "<Response [200]>\n",
      "Getting transcript for 1837\n",
      "<Response [200]>\n",
      "Getting transcript for 1838\n",
      "<Response [200]>\n",
      "Getting transcript for 1839\n",
      "<Response [200]>\n",
      "Getting transcript for 1840\n",
      "<Response [200]>\n",
      "Getting transcript for 1841\n",
      "<Response [200]>\n",
      "Getting transcript for 1842\n",
      "<Response [200]>\n",
      "Getting transcript for 1843\n",
      "<Response [200]>\n",
      "Getting transcript for 1844\n",
      "<Response [200]>\n",
      "Getting transcript for 1845\n",
      "<Response [200]>\n",
      "Getting transcript for 1846\n",
      "<Response [200]>\n",
      "Getting transcript for 1847\n",
      "<Response [200]>\n",
      "Getting transcript for 1848\n",
      "<Response [200]>\n",
      "Getting transcript for 1849\n",
      "<Response [200]>\n",
      "Getting transcript for 1850\n",
      "<Response [200]>\n",
      "Getting transcript for 1851\n",
      "<Response [200]>\n",
      "Getting transcript for 1852\n",
      "<Response [200]>\n",
      "Getting transcript for 1853\n",
      "<Response [200]>\n",
      "Getting transcript for 1854\n",
      "<Response [200]>\n",
      "Getting transcript for 1855\n",
      "<Response [200]>\n",
      "Getting transcript for 1856\n",
      "<Response [200]>\n",
      "Getting transcript for 1857\n",
      "<Response [200]>\n",
      "Getting transcript for 1858\n",
      "<Response [200]>\n",
      "Getting transcript for 1859\n",
      "<Response [200]>\n",
      "Getting transcript for 1860\n",
      "<Response [200]>\n",
      "Getting transcript for 1861\n",
      "<Response [200]>\n",
      "Getting transcript for 1862\n",
      "<Response [200]>\n",
      "Getting transcript for 1863\n",
      "<Response [200]>\n",
      "Getting transcript for 1864\n",
      "<Response [200]>\n",
      "Getting transcript for 1865\n",
      "<Response [200]>\n",
      "Getting transcript for 1866\n",
      "<Response [200]>\n",
      "Getting transcript for 1867\n",
      "<Response [200]>\n",
      "Getting transcript for 1868\n",
      "<Response [200]>\n",
      "Getting transcript for 1869\n",
      "<Response [200]>\n",
      "Getting transcript for 1870\n",
      "<Response [200]>\n",
      "Getting transcript for 1871\n",
      "<Response [200]>\n",
      "Getting transcript for 1872\n",
      "<Response [200]>\n",
      "Getting transcript for 1873\n",
      "<Response [200]>\n",
      "Getting transcript for 1874\n",
      "<Response [200]>\n",
      "Getting transcript for 1875\n",
      "<Response [200]>\n",
      "Getting transcript for 1876\n",
      "<Response [200]>\n",
      "Getting transcript for 1877\n",
      "<Response [200]>\n",
      "Getting transcript for 1878\n",
      "<Response [200]>\n",
      "Getting transcript for 1879\n",
      "<Response [200]>\n",
      "Getting transcript for 1880\n",
      "<Response [200]>\n",
      "Getting transcript for 1881\n",
      "<Response [200]>\n",
      "Getting transcript for 1882\n",
      "<Response [200]>\n",
      "Getting transcript for 1883\n",
      "<Response [200]>\n",
      "Getting transcript for 1884\n",
      "<Response [200]>\n",
      "Getting transcript for 1885\n",
      "<Response [200]>\n",
      "Getting transcript for 1886\n",
      "<Response [200]>\n",
      "Getting transcript for 1887\n",
      "<Response [200]>\n",
      "Getting transcript for 1888\n",
      "<Response [200]>\n",
      "Getting transcript for 1889\n",
      "<Response [200]>\n",
      "Getting transcript for 1890\n",
      "<Response [200]>\n",
      "Getting transcript for 1891\n",
      "<Response [200]>\n",
      "Getting transcript for 1892\n",
      "<Response [200]>\n",
      "Getting transcript for 1893\n",
      "<Response [200]>\n",
      "Getting transcript for 1894\n",
      "<Response [200]>\n",
      "Getting transcript for 1895\n",
      "<Response [200]>\n",
      "Getting transcript for 1896\n",
      "<Response [200]>\n",
      "Getting transcript for 1897\n",
      "<Response [200]>\n",
      "Getting transcript for 1898\n",
      "<Response [200]>\n",
      "Getting transcript for 1899\n",
      "<Response [200]>\n",
      "Getting transcript for 1900\n",
      "<Response [200]>\n",
      "Getting transcript for 1901\n",
      "<Response [200]>\n",
      "Getting transcript for 1902\n",
      "<Response [200]>\n",
      "Getting transcript for 1903\n",
      "<Response [200]>\n",
      "Getting transcript for 1904\n",
      "<Response [200]>\n",
      "Getting transcript for 1905\n",
      "<Response [200]>\n",
      "Getting transcript for 1906\n",
      "<Response [200]>\n",
      "Getting transcript for 1907\n",
      "<Response [200]>\n",
      "Getting transcript for 1908\n",
      "<Response [200]>\n",
      "Getting transcript for 1909\n",
      "<Response [200]>\n",
      "Getting transcript for 1910\n",
      "<Response [200]>\n",
      "Getting transcript for 1911\n",
      "<Response [200]>\n",
      "Getting transcript for 1912\n",
      "<Response [200]>\n",
      "Getting transcript for 1913\n",
      "<Response [200]>\n",
      "Getting transcript for 1914\n",
      "<Response [200]>\n",
      "Getting transcript for 1915\n",
      "<Response [200]>\n",
      "Getting transcript for 1916\n",
      "<Response [200]>\n",
      "Getting transcript for 1917\n",
      "<Response [200]>\n",
      "Getting transcript for 1918\n",
      "<Response [200]>\n",
      "Getting transcript for 1919\n",
      "<Response [200]>\n",
      "Getting transcript for 1920\n",
      "<Response [200]>\n",
      "Getting transcript for 1921\n",
      "<Response [200]>\n",
      "Getting transcript for 1922\n",
      "<Response [200]>\n",
      "Getting transcript for 1923\n",
      "<Response [200]>\n",
      "Getting transcript for 1924\n",
      "<Response [200]>\n",
      "Getting transcript for 1925\n",
      "<Response [200]>\n",
      "Getting transcript for 1926\n",
      "<Response [200]>\n",
      "Getting transcript for 1927\n",
      "<Response [200]>\n",
      "Getting transcript for 1928\n",
      "<Response [200]>\n",
      "Getting transcript for 1929\n",
      "<Response [200]>\n",
      "Getting transcript for 1930\n",
      "<Response [200]>\n",
      "Getting transcript for 1931\n",
      "<Response [200]>\n",
      "Getting transcript for 1932\n",
      "<Response [200]>\n",
      "Getting transcript for 1933\n",
      "Could not get record for 1933\n",
      "Getting transcript for 1934\n",
      "<Response [200]>\n",
      "Getting transcript for 1935\n",
      "<Response [200]>\n",
      "Getting transcript for 1936\n",
      "<Response [200]>\n",
      "Getting transcript for 1937\n",
      "<Response [200]>\n",
      "Getting transcript for 1938\n",
      "<Response [200]>\n",
      "Getting transcript for 1939\n",
      "<Response [200]>\n",
      "Getting transcript for 1940\n",
      "<Response [200]>\n",
      "Getting transcript for 1941\n",
      "<Response [200]>\n",
      "Getting transcript for 1942\n",
      "<Response [200]>\n",
      "Getting transcript for 1943\n",
      "<Response [200]>\n",
      "Getting transcript for 1944\n",
      "<Response [200]>\n",
      "Getting transcript for 1945\n",
      "<Response [200]>\n",
      "Getting transcript for 1946\n",
      "<Response [200]>\n",
      "Getting transcript for 1947\n",
      "<Response [200]>\n",
      "Getting transcript for 1948\n",
      "<Response [200]>\n",
      "Getting transcript for 1949\n",
      "<Response [200]>\n",
      "Getting transcript for 1950\n",
      "<Response [200]>\n",
      "Getting transcript for 1951\n",
      "<Response [200]>\n",
      "Getting transcript for 1952\n",
      "<Response [200]>\n",
      "Getting transcript for 1953\n",
      "<Response [200]>\n",
      "Getting transcript for 1954\n",
      "<Response [200]>\n",
      "Getting transcript for 1955\n",
      "<Response [200]>\n",
      "Getting transcript for 1956\n",
      "<Response [200]>\n",
      "Getting transcript for 1957\n",
      "<Response [200]>\n",
      "Getting transcript for 1958\n",
      "<Response [200]>\n",
      "Getting transcript for 1959\n",
      "<Response [200]>\n",
      "Getting transcript for 1960\n",
      "<Response [200]>\n",
      "Getting transcript for 1961\n",
      "<Response [200]>\n",
      "Getting transcript for 1962\n",
      "<Response [200]>\n",
      "Getting transcript for 1963\n",
      "<Response [200]>\n",
      "Getting transcript for 1964\n",
      "<Response [200]>\n",
      "Getting transcript for 1965\n",
      "<Response [200]>\n",
      "Getting transcript for 1966\n",
      "<Response [200]>\n",
      "Getting transcript for 1967\n",
      "<Response [200]>\n",
      "Getting transcript for 1968\n",
      "<Response [200]>\n",
      "Getting transcript for 1969\n",
      "<Response [200]>\n",
      "Getting transcript for 1970\n",
      "<Response [200]>\n",
      "Getting transcript for 1971\n",
      "<Response [200]>\n",
      "Getting transcript for 1972\n",
      "<Response [200]>\n",
      "Getting transcript for 1973\n",
      "Could not get record for 1973\n",
      "Getting transcript for 1974\n"
     ]
    },
    {
     "name": "stdout",
     "output_type": "stream",
     "text": [
      "<Response [200]>\n",
      "Getting transcript for 1975\n",
      "<Response [200]>\n",
      "Getting transcript for 1976\n",
      "<Response [200]>\n",
      "Getting transcript for 1977\n",
      "<Response [200]>\n",
      "Getting transcript for 1978\n",
      "<Response [200]>\n",
      "Getting transcript for 1979\n",
      "<Response [200]>\n",
      "Getting transcript for 1980\n",
      "<Response [200]>\n",
      "Getting transcript for 1981\n",
      "<Response [200]>\n",
      "Getting transcript for 1982\n",
      "<Response [200]>\n",
      "Getting transcript for 1983\n",
      "<Response [200]>\n",
      "Getting transcript for 1984\n",
      "<Response [200]>\n",
      "Getting transcript for 1985\n",
      "<Response [200]>\n",
      "Getting transcript for 1986\n",
      "<Response [200]>\n",
      "Getting transcript for 1987\n",
      "<Response [200]>\n",
      "Getting transcript for 1988\n",
      "<Response [200]>\n",
      "Getting transcript for 1989\n",
      "<Response [200]>\n",
      "Getting transcript for 1990\n",
      "<Response [200]>\n",
      "Getting transcript for 1991\n",
      "<Response [200]>\n",
      "Getting transcript for 1992\n",
      "<Response [200]>\n",
      "Getting transcript for 1993\n",
      "<Response [200]>\n",
      "Getting transcript for 1994\n",
      "<Response [200]>\n",
      "Getting transcript for 1995\n",
      "<Response [200]>\n",
      "Getting transcript for 1996\n",
      "<Response [200]>\n",
      "Getting transcript for 1997\n",
      "<Response [200]>\n",
      "Getting transcript for 1998\n",
      "<Response [200]>\n",
      "Getting transcript for 1999\n",
      "<Response [200]>\n",
      "Getting transcript for 2000\n",
      "<Response [200]>\n",
      "Getting transcript for 2001\n",
      "<Response [200]>\n",
      "Getting transcript for 2002\n",
      "<Response [200]>\n",
      "Getting transcript for 2003\n",
      "<Response [200]>\n",
      "Getting transcript for 2004\n",
      "<Response [200]>\n",
      "Getting transcript for 2005\n",
      "<Response [200]>\n",
      "Getting transcript for 2006\n",
      "<Response [200]>\n",
      "Getting transcript for 2007\n",
      "<Response [200]>\n",
      "Getting transcript for 2008\n",
      "<Response [200]>\n",
      "Getting transcript for 2009\n",
      "<Response [500]>\n",
      "Could not get record for 2009\n",
      "Getting transcript for 2010\n",
      "<Response [200]>\n",
      "Getting transcript for 2011\n",
      "<Response [200]>\n",
      "Getting transcript for 2012\n",
      "<Response [200]>\n",
      "Getting transcript for 2013\n",
      "<Response [200]>\n",
      "Getting transcript for 2014\n",
      "<Response [200]>\n",
      "Getting transcript for 2015\n",
      "<Response [200]>\n",
      "Getting transcript for 2016\n",
      "<Response [200]>\n",
      "Getting transcript for 2017\n",
      "<Response [200]>\n",
      "Getting transcript for 2018\n",
      "<Response [200]>\n",
      "Getting transcript for 2019\n",
      "<Response [200]>\n",
      "Getting transcript for 2020\n",
      "<Response [200]>\n",
      "Successfully scrapped 225 records\n"
     ]
    }
   ],
   "source": [
    "headers = {'User-Agent': 'Mozilla/5.0 (Macintosh; Intel Mac OS X 10_10_1) AppleWebKit/537.36 (KHTML, like Gecko) Chrome/39.0.2171.95 Safari/537.36'}\n",
    "\n",
    "sotu_raw_transcripts = []\n",
    "presidents = []\n",
    "sotu_dates = []\n",
    "\n",
    "dates = list(range(1793, 2021)) # Dates 1793-2020\n",
    "dates_str = [str(d) for d in dates]\n",
    "dates_str\n",
    "\n",
    "for date in dates_str:\n",
    "    print(f'Getting transcript for {date}')\n",
    "    try:\n",
    "        # Opening URL\n",
    "        base_url = 'https://www.presidency.ucsb.edu/documents/presidential-documents-archive-guidebook/annual-messages-congress-the-state-the-union'\n",
    "        driver = webdriver.Chrome()\n",
    "        driver.get(base_url)\n",
    "        driver.implicitly_wait(10) # seconds\n",
    "        element = driver.find_element_by_link_text(date)\n",
    "        webdriver.ActionChains(driver).move_to_element(element).click(element).perform()\n",
    "        current_url = driver.current_url # url containing transcript of SOTU addresses\n",
    "        r = requests.get(current_url, headers=headers)\n",
    "        print(r)\n",
    "        # print(r.content)\n",
    "        soup = BeautifulSoup(r.content, 'html.parser') \n",
    "        #print(soup.prettify())\n",
    "        # Using BeautifulSoup to extract transcript\n",
    "        text = soup.find('div', class_='field-docs-content').get_text()\n",
    "        #text = soup.find('div', class_='node-documents').get_text()\n",
    "        pres_name = soup.find('h3', class_='diet-title').get_text()\n",
    "        date = soup.find('span', class_='date-display-single').get_text()\n",
    "        sotu_raw_transcripts.append(text)\n",
    "        presidents.append(pres_name)\n",
    "        sotu_dates.append(date)\n",
    "        driver.close()\n",
    "    except:\n",
    "        print(f'Could not get record for {date}')\n",
    "#print(sotu_transcripts)\n",
    "num_records = len(sotu_raw_transcripts)\n",
    "print(f'Successfully scrapped {num_records} records')\n",
    "driver.quit()"
   ]
  },
  {
   "cell_type": "code",
   "execution_count": 3,
   "metadata": {},
   "outputs": [],
   "source": [
    "# Pickling raw transcripts\n",
    "with open('./pickled_files/sotu_raw_transcripts.pkl', 'wb') as f:\n",
    "    pickle.dump(sotu_raw_transcripts, f)"
   ]
  },
  {
   "cell_type": "code",
   "execution_count": 4,
   "metadata": {},
   "outputs": [],
   "source": [
    "# Pickling list of presidents\n",
    "with open('./pickled_files/presidents.pkl', 'wb') as f:\n",
    "    pickle.dump(presidents, f)"
   ]
  },
  {
   "cell_type": "code",
   "execution_count": 21,
   "metadata": {},
   "outputs": [],
   "source": [
    "# Pickling list of dates\n",
    "with open('./pickled_files/dates.pkl', 'wb') as f:\n",
    "    pickle.dump(sotu_dates, f)"
   ]
  },
  {
   "cell_type": "code",
   "execution_count": null,
   "metadata": {},
   "outputs": [],
   "source": [
    "# headers = {'User-Agent': 'Mozilla/5.0 (Macintosh; Intel Mac OS X 10_10_1) AppleWebKit/537.36 (KHTML, like Gecko) Chrome/39.0.2171.95 Safari/537.36'}\n",
    "\n",
    "# base_url = 'https://www.presidency.ucsb.edu/documents/presidential-documents-archive-guidebook/annual-messages-congress-the-state-the-union'\n",
    "# driver = webdriver.Chrome()\n",
    "# driver.get(base_url)\n",
    "# driver.implicitly_wait(10) # seconds\n",
    "# element = driver.find_element_by_link_text('1793')\n",
    "# webdriver.ActionChains(driver).move_to_element(element).click(element).perform()\n",
    "# current_url = driver.current_url # url containing transcript of SOTU addresses\n",
    "# r = requests.get(current_url, headers=headers)\n",
    "# print(r)\n",
    "# # print(r.content)\n",
    "# soup = BeautifulSoup(r.content, 'html.parser') \n",
    "# #print(soup.prettify())\n",
    "# # Using BeautifulSoup to extract transcript\n",
    "# text = soup.find('div', class_='field-docs-content').get_text()\n",
    "# #text = soup.find('div', class_='node-documents').get_text()\n",
    "# pres_name = soup.find('h3', class_='diet-title').get_text()\n",
    "# date = soup.find('span', class_='date-display-single').get_text()"
   ]
  },
  {
   "cell_type": "code",
   "execution_count": 22,
   "metadata": {
    "scrolled": true
   },
   "outputs": [
    {
     "name": "stdout",
     "output_type": "stream",
     "text": [
      "# of transcripts: 225\n",
      "# of Presidents: 42\n",
      "# of dates: 225\n"
     ]
    }
   ],
   "source": [
    "print('# of transcripts: ' + str(len(sotu_raw_transcripts)))\n",
    "print('# of Presidents: ' + str(len(set(presidents))))\n",
    "print('# of dates: ' + str(len(sotu_dates)))"
   ]
  },
  {
   "cell_type": "markdown",
   "metadata": {},
   "source": [
    "-------------------"
   ]
  },
  {
   "cell_type": "markdown",
   "metadata": {},
   "source": [
    "## 2 | Data Cleanup"
   ]
  },
  {
   "cell_type": "code",
   "execution_count": 16,
   "metadata": {},
   "outputs": [],
   "source": [
    "# Opening pickled list of raw transcripts\n",
    "with open('./pickled_files/sotu_raw_transcripts.pkl', 'rb') as f:\n",
    "    sotu_raw_transcripts = pickle.load(f)"
   ]
  },
  {
   "cell_type": "code",
   "execution_count": 17,
   "metadata": {},
   "outputs": [],
   "source": [
    "# Opening pickled list of presidents\n",
    "with open('./pickled_files/presidents.pkl', 'rb') as f:\n",
    "    presidents = pickle.load(f)"
   ]
  },
  {
   "cell_type": "code",
   "execution_count": 18,
   "metadata": {},
   "outputs": [],
   "source": [
    "# Opening pickled list of dates\n",
    "with open('./pickled_files/dates.pkl', 'rb') as f:\n",
    "    dates = pickle.load(f)"
   ]
  },
  {
   "cell_type": "code",
   "execution_count": 23,
   "metadata": {
    "scrolled": true
   },
   "outputs": [
    {
     "name": "stdout",
     "output_type": "stream",
     "text": [
      "225\n",
      "225\n",
      "225\n"
     ]
    }
   ],
   "source": [
    "print(len(sotu_raw_transcripts))\n",
    "print(len(presidents))\n",
    "print(len(sotu_dates))"
   ]
  },
  {
   "cell_type": "code",
   "execution_count": 24,
   "metadata": {},
   "outputs": [],
   "source": [
    "sotu_speeches = pd.DataFrame({'date': sotu_dates, 'president': presidents, 'raw_text': sotu_raw_transcripts})"
   ]
  },
  {
   "cell_type": "code",
   "execution_count": 25,
   "metadata": {},
   "outputs": [
    {
     "data": {
      "text/html": [
       "<div>\n",
       "<style scoped>\n",
       "    .dataframe tbody tr th:only-of-type {\n",
       "        vertical-align: middle;\n",
       "    }\n",
       "\n",
       "    .dataframe tbody tr th {\n",
       "        vertical-align: top;\n",
       "    }\n",
       "\n",
       "    .dataframe thead th {\n",
       "        text-align: right;\n",
       "    }\n",
       "</style>\n",
       "<table border=\"1\" class=\"dataframe\">\n",
       "  <thead>\n",
       "    <tr style=\"text-align: right;\">\n",
       "      <th></th>\n",
       "      <th>date</th>\n",
       "      <th>president</th>\n",
       "      <th>raw_text</th>\n",
       "    </tr>\n",
       "  </thead>\n",
       "  <tbody>\n",
       "    <tr>\n",
       "      <th>0</th>\n",
       "      <td>December 03, 1793</td>\n",
       "      <td>George Washington</td>\n",
       "      <td>\\nFellow-Citizens of the Senate and House of R...</td>\n",
       "    </tr>\n",
       "    <tr>\n",
       "      <th>1</th>\n",
       "      <td>November 19, 1794</td>\n",
       "      <td>George Washington</td>\n",
       "      <td>\\nFellow-Citizens of the Senate and House of R...</td>\n",
       "    </tr>\n",
       "    <tr>\n",
       "      <th>2</th>\n",
       "      <td>December 08, 1795</td>\n",
       "      <td>George Washington</td>\n",
       "      <td>\\nFellow-Citizens of the Senate and House of R...</td>\n",
       "    </tr>\n",
       "    <tr>\n",
       "      <th>3</th>\n",
       "      <td>December 07, 1796</td>\n",
       "      <td>George Washington</td>\n",
       "      <td>\\nFellow-Citizens of the Senate and House of R...</td>\n",
       "    </tr>\n",
       "    <tr>\n",
       "      <th>4</th>\n",
       "      <td>November 22, 1797</td>\n",
       "      <td>John Adams</td>\n",
       "      <td>\\nGentlemen of the Senate and Gentlemen of the...</td>\n",
       "    </tr>\n",
       "  </tbody>\n",
       "</table>\n",
       "</div>"
      ],
      "text/plain": [
       "                date          president  \\\n",
       "0  December 03, 1793  George Washington   \n",
       "1  November 19, 1794  George Washington   \n",
       "2  December 08, 1795  George Washington   \n",
       "3  December 07, 1796  George Washington   \n",
       "4  November 22, 1797         John Adams   \n",
       "\n",
       "                                            raw_text  \n",
       "0  \\nFellow-Citizens of the Senate and House of R...  \n",
       "1  \\nFellow-Citizens of the Senate and House of R...  \n",
       "2  \\nFellow-Citizens of the Senate and House of R...  \n",
       "3  \\nFellow-Citizens of the Senate and House of R...  \n",
       "4  \\nGentlemen of the Senate and Gentlemen of the...  "
      ]
     },
     "execution_count": 25,
     "metadata": {},
     "output_type": "execute_result"
    }
   ],
   "source": [
    "sotu_speeches.head()"
   ]
  },
  {
   "cell_type": "code",
   "execution_count": null,
   "metadata": {},
   "outputs": [],
   "source": [
    "republican = ['Abraham Lincoln',\n",
    "'Ulysses S. Grant',\n",
    "'Rutherford B. Hayes',\n",
    "'James Garfield',\n",
    "'Chester A. Arthur',\n",
    "'Benjamin Harrison',\n",
    "'William McKinley',\n",
    "'Theodore Roosevelt',\n",
    "'William Howard Taft',\n",
    "'Warren G. Harding',\n",
    "'Calvin Coolidge',\n",
    "'Herbert Hoover',\n",
    "'Dwight D. Eisenhower',\n",
    "'Richard M. Nixon',\n",
    "'Gerald R. Ford',\n",
    "'Ronald Reagan',\n",
    "'George Bush',\n",
    "'George W. Bush',\n",
    "'Donald J. Trump']\n",
    "republican_dict = { r : 'republican' for r in republican }\n",
    "republican_dict"
   ]
  },
  {
   "cell_type": "code",
   "execution_count": null,
   "metadata": {},
   "outputs": [],
   "source": [
    "democrat = ['Andrew Jackson',\n",
    "'Martin van Buren',\n",
    "'James K. Polk',\n",
    "'Franklin Pierce',\n",
    "'James Buchanan',\n",
    "'Grover Cleveland',\n",
    "'Woodrow Wilson',\n",
    "'Franklin D. Roosevelt',\n",
    "'Harry S. Truman',\n",
    "'John F. Kennedy',\n",
    "'Lyndon B. Johnson',\n",
    "'Jimmy Carter',\n",
    "'William J. Clinton',\n",
    "'Barack Obama']\n",
    "democrat_dict = { d : 'democrat' for d in democrat }\n",
    "democrat_dict"
   ]
  },
  {
   "cell_type": "code",
   "execution_count": null,
   "metadata": {},
   "outputs": [],
   "source": [
    "federalist = ['George Washington',\n",
    "'John Adams']\n",
    "federalist_dict = { f : 'federalist' for f in federalist }\n",
    "federalist_dict"
   ]
  },
  {
   "cell_type": "code",
   "execution_count": null,
   "metadata": {},
   "outputs": [],
   "source": [
    "democratic_republican = ['Thomas Jefferson',\n",
    "'James Madison',\n",
    "'James Monroe',\n",
    "'John Quincy Adams']\n",
    "democratic_republican_dict = { dr : 'democratic_republican' for dr in democratic_republican }\n",
    "democratic_republican_dict"
   ]
  },
  {
   "cell_type": "code",
   "execution_count": null,
   "metadata": {},
   "outputs": [],
   "source": [
    "whig = ['William Henry Harrison',\n",
    "'John Tyler',\n",
    "'Zachary Taylor',\n",
    "'Millard Fillmore']\n",
    "whig_dict = { w : 'democratic_republican' for w in whig }\n",
    "whig_dict"
   ]
  },
  {
   "cell_type": "code",
   "execution_count": null,
   "metadata": {},
   "outputs": [],
   "source": [
    "union = ['Andrew Johnson']\n",
    "union_dict = {u : 'union' for u in union}\n",
    "union_dict"
   ]
  },
  {
   "cell_type": "code",
   "execution_count": null,
   "metadata": {},
   "outputs": [],
   "source": [
    "# Merging contents of all dictionaries\n",
    "presidential_party_dict = {**republican_dict, **democrat_dict, **federalist_dict, **democratic_republican_dict, **whig_dict, **union_dict}    \n",
    "presidential_party_dict"
   ]
  },
  {
   "cell_type": "code",
   "execution_count": null,
   "metadata": {},
   "outputs": [],
   "source": [
    "# Pickling party affiliations\n",
    "with open('./pickled_files/presidential_party_dict.pkl', 'wb') as f:\n",
    "    pickle.dump(presidential_party_dict, f)"
   ]
  },
  {
   "cell_type": "code",
   "execution_count": null,
   "metadata": {},
   "outputs": [],
   "source": [
    "sotu_speeches['party'] = sotu_speeches['president'].map(presidential_party_dict)\n"
   ]
  },
  {
   "cell_type": "code",
   "execution_count": null,
   "metadata": {},
   "outputs": [],
   "source": [
    "sotu_speeches.head()"
   ]
  },
  {
   "cell_type": "code",
   "execution_count": null,
   "metadata": {},
   "outputs": [],
   "source": [
    "# Pickling raw dataframe\n",
    "with open('./pickled_files/sotu_speeches.pkl', 'wb') as f:\n",
    "    pickle.dump(sotu_speeches, f)"
   ]
  },
  {
   "cell_type": "markdown",
   "metadata": {},
   "source": [
    "###### DATA CLEANING"
   ]
  },
  {
   "cell_type": "code",
   "execution_count": null,
   "metadata": {},
   "outputs": [],
   "source": [
    "# Opening pickled dataframe\n",
    "with open('./pickled_files/sotu_speeches.pkl', 'rb') as f:\n",
    "    sotu_speeches = pickle.load(f)"
   ]
  },
  {
   "cell_type": "code",
   "execution_count": null,
   "metadata": {
    "scrolled": false
   },
   "outputs": [],
   "source": [
    "sotu_speeches.head()"
   ]
  },
  {
   "cell_type": "code",
   "execution_count": null,
   "metadata": {},
   "outputs": [],
   "source": [
    "clean_sotu_speeches = sotu_speeches.copy()\n",
    "clean_sotu_speeches.head()"
   ]
  },
  {
   "cell_type": "code",
   "execution_count": null,
   "metadata": {},
   "outputs": [],
   "source": [
    "# Converting date to datetime object and extracting month from date\n",
    "clean_sotu_speeches.date = clean_sotu_speeches.date.astype('datetime64[ns]')\n",
    "clean_sotu_speeches['year'] = pd.DatetimeIndex(clean_sotu_speeches.date).year"
   ]
  },
  {
   "cell_type": "code",
   "execution_count": null,
   "metadata": {
    "scrolled": false
   },
   "outputs": [],
   "source": [
    "# Cleaning up transcripts\n",
    "# 2. Removing punctuation\n",
    "# 3. Removing numerical values\n",
    "# 4. removing non-sensical text (e.g. /n)\n",
    "\n",
    "clean_sotu_speeches.raw_text = clean_sotu_speeches.raw_text.str.lower() # converts text to lower case\n",
    "clean_sotu_speeches.raw_text = clean_sotu_speeches.raw_text.str.replace('[^\\w\\s]','') # removes punctuations\n",
    "clean_sotu_speeches.raw_text = clean_sotu_speeches.raw_text.str.replace('\\d+', '') # removes numbers\n",
    "clean_sotu_speeches.raw_text = [re.sub('\\w*\\d\\w*', '', word) for word in clean_sotu_speeches.raw_text] # removes words with numbers\n",
    "clean_sotu_speeches.raw_text = [re.sub('\\[.*?\\]', '', word) for word in clean_sotu_speeches.raw_text] # removes words in square brackets\n",
    "clean_sotu_speeches.raw_text = [re.sub('[%s]' % re.escape(string.punctuation), '', text) for text in clean_sotu_speeches.raw_text]\n",
    "clean_sotu_speeches.raw_text = [re.sub('[‘’“”…]', '', text) for text in clean_sotu_speeches.raw_text]\n",
    "clean_sotu_speeches.raw_text = [re.sub('\\n', '', text) for text in clean_sotu_speeches.raw_text]"
   ]
  },
  {
   "cell_type": "code",
   "execution_count": null,
   "metadata": {},
   "outputs": [],
   "source": [
    "# Renaming raw text column\n",
    "clean_sotu_speeches.rename(columns={'raw_text': 'clean_text'}, inplace=True)"
   ]
  },
  {
   "cell_type": "code",
   "execution_count": null,
   "metadata": {
    "scrolled": true
   },
   "outputs": [],
   "source": [
    "clean_sotu_speeches.head()"
   ]
  },
  {
   "cell_type": "code",
   "execution_count": null,
   "metadata": {},
   "outputs": [],
   "source": [
    "# Pickling clean corpus\n",
    "with open('./pickled_files/clean_sotu_speeches_corpus.pkl', 'wb') as f:\n",
    "    pickle.dump(clean_sotu_speeches, f)"
   ]
  },
  {
   "cell_type": "markdown",
   "metadata": {},
   "source": [
    "###### ORGANIZING DATA IN DOCUMENT MATRIX"
   ]
  },
  {
   "cell_type": "code",
   "execution_count": null,
   "metadata": {},
   "outputs": [],
   "source": [
    "# Opening pickled dataframe\n",
    "with open('./pickled_files/clean_sotu_speeches.pkl', 'rb') as f:\n",
    "    clean_sotu_speeches = pickle.load(f)"
   ]
  },
  {
   "cell_type": "code",
   "execution_count": null,
   "metadata": {},
   "outputs": [],
   "source": [
    "# Opening party affiliations\n",
    "with open('./pickled_files/presidential_party_dict.pkl', 'rb') as f:\n",
    "    presidential_party_dict = pickle.load(f)"
   ]
  },
  {
   "cell_type": "code",
   "execution_count": null,
   "metadata": {},
   "outputs": [],
   "source": [
    "# We are going to create a document-term matrix using CountVectorizer, and exclude common English stop words\n",
    "from sklearn.feature_extraction.text import CountVectorizer\n",
    "\n",
    "cv = CountVectorizer(stop_words='english')\n",
    "speeches_cv = cv.fit_transform(clean_sotu_speeches.clean_text)\n",
    "speeches_dtm = pd.DataFrame(speeches_cv.toarray(), columns=cv.get_feature_names())\n",
    "speeches_dtm.index = clean_sotu_speeches.president\n",
    "# speeches_dtm.reset_index()\n",
    "speeches_dtm.head()"
   ]
  },
  {
   "cell_type": "code",
   "execution_count": null,
   "metadata": {},
   "outputs": [],
   "source": [
    "# Pickling clean document-term matrix\n",
    "with open('./pickled_files/speeches_dtm.pkl', 'wb') as f:\n",
    "    pickle.dump(speeches_dtm, f)"
   ]
  },
  {
   "cell_type": "code",
   "execution_count": null,
   "metadata": {
    "scrolled": false
   },
   "outputs": [],
   "source": [
    "# Grouping data by president\n",
    "grouped_pres_speeches_dtm = speeches_dtm.groupby(speeches_dtm.index).sum()\n",
    "grouped_pres_speeches_dtm"
   ]
  },
  {
   "cell_type": "code",
   "execution_count": null,
   "metadata": {},
   "outputs": [],
   "source": [
    "# Pickling clean document-term matrix\n",
    "with open('./pickled_files/grouped_pres_speeches_dtm.pkl', 'wb') as f:\n",
    "    pickle.dump(grouped_pres_speeches_dtm, f)"
   ]
  },
  {
   "cell_type": "code",
   "execution_count": null,
   "metadata": {},
   "outputs": [],
   "source": [
    "# We are going to create a document-term matrix using CountVectorizer, and exclude common English stop words\n",
    "from sklearn.feature_extraction.text import CountVectorizer\n",
    "\n",
    "cv = CountVectorizer(stop_words='english')\n",
    "patry_speeches_cv = cv.fit_transform(clean_sotu_speeches.clean_text)\n",
    "patry_speeches_dtm = pd.DataFrame(patry_speeches_cv.toarray(), columns=cv.get_feature_names())\n",
    "patry_speeches_dtm.index = clean_sotu_speeches.party\n",
    "# speeches_dtm.reset_index()\n",
    "patry_speeches_dtm.head()"
   ]
  },
  {
   "cell_type": "code",
   "execution_count": null,
   "metadata": {},
   "outputs": [],
   "source": [
    "# Grouping data by party\n",
    "grouped_party_speeches_dtm = speeches_dtm.groupby(patry_speeches_dtm.index).sum()\n",
    "grouped_party_speeches_dtm"
   ]
  },
  {
   "cell_type": "code",
   "execution_count": null,
   "metadata": {},
   "outputs": [],
   "source": [
    "# Pickling clean document-term matrix\n",
    "with open('./pickled_files/grouped_party_speeches_dtm.pkl', 'wb') as f:\n",
    "    pickle.dump(grouped_party_speeches_dtm, f)"
   ]
  },
  {
   "cell_type": "code",
   "execution_count": null,
   "metadata": {},
   "outputs": [],
   "source": [
    "#########################################\n",
    "## END OF DATA COLLECTING AND CLEANING ##\n",
    "#########################################"
   ]
  }
 ],
 "metadata": {
  "kernelspec": {
   "display_name": "pythonData",
   "language": "python",
   "name": "pythondata"
  },
  "language_info": {
   "codemirror_mode": {
    "name": "ipython",
    "version": 3
   },
   "file_extension": ".py",
   "mimetype": "text/x-python",
   "name": "python",
   "nbconvert_exporter": "python",
   "pygments_lexer": "ipython3",
   "version": "3.7.4"
  }
 },
 "nbformat": 4,
 "nbformat_minor": 4
}
